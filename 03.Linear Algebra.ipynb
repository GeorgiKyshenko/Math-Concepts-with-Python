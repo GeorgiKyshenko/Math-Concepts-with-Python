{
 "cells": [
  {
   "cell_type": "code",
   "execution_count": null,
   "metadata": {},
   "outputs": [],
   "source": [
    "import numpy as np\n",
    "import matplotlib.pyplot as plt"
   ]
  },
  {
   "cell_type": "markdown",
   "metadata": {},
   "source": [
    "#### 1.Matrices"
   ]
  },
  {
   "cell_type": "code",
   "execution_count": null,
   "metadata": {},
   "outputs": [],
   "source": [
    "# operations with matrices\n",
    "A = np.array([\n",
    "  [2, 3, 7],\n",
    "  [8, 9, 1]\n",
    "])\n",
    "\n",
    "B = np.array([\n",
    "  [1, -3, 0],\n",
    "  [2, -4, 1]\n",
    "])\n",
    "\n",
    "# transposition\n",
    "print(f'1.Transposition of A: {A.T}')\n",
    "print(f'1.1.Transposition of B: {B.T}')"
   ]
  },
  {
   "cell_type": "code",
   "execution_count": null,
   "metadata": {},
   "outputs": [],
   "source": [
    "# sum of A + B\n",
    "print(f'2.The sum of A+B: {A + B}')\n",
    "\n",
    "# 2*A\n",
    "print(f'2.1.Matrix A multiplied by scalar=2: {2 * A}')\n",
    "\n",
    "# A + A\n",
    "print(f'2.2.The sum of A+A: {A + A}')\n",
    "\n",
    "# 2*A == A + A\n",
    "print(f'2.3-> 2*A == A + A: {2*A == A+ A}')\n",
    "\n",
    "# 2*A + 5*B\n",
    "print(f'2.4-> 2*A + 5*B: {2*A + 5*B}')\n"
   ]
  },
  {
   "cell_type": "code",
   "execution_count": 24,
   "metadata": {},
   "outputs": [
    {
     "name": "stdout",
     "output_type": "stream",
     "text": [
      "3.-> A * B: [[  2  -9   0]\n",
      " [ 16 -36   1]]\n"
     ]
    },
    {
     "ename": "ValueError",
     "evalue": "shapes (2,3) and (2,3) not aligned: 3 (dim 1) != 2 (dim 0)",
     "output_type": "error",
     "traceback": [
      "\u001b[1;31m---------------------------------------------------------------------------\u001b[0m",
      "\u001b[1;31mValueError\u001b[0m                                Traceback (most recent call last)",
      "Cell \u001b[1;32mIn[24], line 8\u001b[0m\n\u001b[0;32m      5\u001b[0m \u001b[39mprint\u001b[39m(\u001b[39mf\u001b[39m\u001b[39m'\u001b[39m\u001b[39m3.-> A * B: \u001b[39m\u001b[39m{\u001b[39;00mA\u001b[39m \u001b[39m\u001b[39m*\u001b[39m\u001b[39m \u001b[39mB\u001b[39m}\u001b[39;00m\u001b[39m'\u001b[39m)\n\u001b[0;32m      7\u001b[0m \u001b[39m# this is how to multiply with numpy, but it is still not correct, we get an error.\u001b[39;00m\n\u001b[1;32m----> 8\u001b[0m \u001b[39mprint\u001b[39m(\u001b[39mf\u001b[39m\u001b[39m\"\u001b[39m\u001b[39m3.1. Correct way of multiply, but still not working, because we need to transpositon B: \u001b[39m\u001b[39m{\u001b[39;00mA\u001b[39m.\u001b[39mdot(B)\u001b[39m}\u001b[39;00m\u001b[39m\"\u001b[39m)\n",
      "\u001b[1;31mValueError\u001b[0m: shapes (2,3) and (2,3) not aligned: 3 (dim 1) != 2 (dim 0)"
     ]
    }
   ],
   "source": [
    "# special cases with multiplying with numpy\n",
    "\n",
    "# numpy multiply matrices element by element, not mathematically. Matrix B does not meet the requirement for multiplication, where columns of matrix A should be equal to the \n",
    "# rows of matrix B#\n",
    "print(f'3.-> A * B: {A * B}')\n",
    "\n",
    "# this is how to multiply with numpy, but it is still not correct, we get an error.\n",
    "print(f\"3.1. Correct way of multiply, but still not working, because we need to transpositon B: {A.dot(B)}\")\n"
   ]
  },
  {
   "cell_type": "code",
   "execution_count": 29,
   "metadata": {},
   "outputs": [
    {
     "name": "stdout",
     "output_type": "stream",
     "text": [
      "3.2.Correct multiplying with numpy:[[ -7  -1]\n",
      " [-19 -19]]\n",
      "3.3.Or if we dont want to use .dot(B) we can use [[ -7  -1]\n",
      " [-19 -19]]\n",
      "3.4.Shows the matrix dimensions: A=(2, 3), B=(2, 3), B.T=(3, 2)\n"
     ]
    }
   ],
   "source": [
    "# if we want to multiply this matrices we need to transposition matrix B\n",
    "print(f\"3.2.Correct multiplying with numpy:{A.dot(B.T)}\")\n",
    "\n",
    "# operator @ is for multiplying matrices in python\n",
    "print(f\"3.3.Or if we dont want to use .dot(B) we can use {A @ B.T}\")\n",
    "\n",
    "print(f\"3.4.Shows the matrix dimensions: A={A.shape}, B={B.shape}, B.T={B.T.shape}\")"
   ]
  }
 ],
 "metadata": {
  "kernelspec": {
   "display_name": "base",
   "language": "python",
   "name": "python3"
  },
  "language_info": {
   "codemirror_mode": {
    "name": "ipython",
    "version": 3
   },
   "file_extension": ".py",
   "mimetype": "text/x-python",
   "name": "python",
   "nbconvert_exporter": "python",
   "pygments_lexer": "ipython3",
   "version": "3.11.7"
  },
  "orig_nbformat": 4
 },
 "nbformat": 4,
 "nbformat_minor": 2
}
