{
 "cells": [
  {
   "cell_type": "code",
   "execution_count": 33,
   "metadata": {},
   "outputs": [],
   "source": [
    "import sympy\n",
    "import math"
   ]
  },
  {
   "cell_type": "markdown",
   "metadata": {},
   "source": [
    "### Problem 1. Formulas and LaTeX\n",
    "![Math formulas and equations](math.jpg)\n",
    "\n",
    "### My Formulas: ###\n",
    "1. Equation of a line: $$ y = ax + b $$\n",
    "2. Roots of the quadratic equation $ ax^2 + bx + c =0 $ $$ x_{1,2} = \\frac{-b \\pm \\sqrt{b^2 - 4ac}}{2a}$$\n",
    "3. Tylor series expansion: $$ f(x)|_{x=a} = f(a) + f'(a)(x-a) + \\frac{f''(a)}{2!}(x-a)^2 + \\dots + \\frac{f^{(n)}(a)}{n!}(x-a)^n + \\dots $$\n",
    "4. Binominal Theorem: $$ (x+y)^n = \\left(\\genfrac{}{}{0pt}{}{n}{0}\\right)x^ny^0 + \\left(\\genfrac{}{}{0pt}{}{n}{1}\\right)x^{n-1}y^1 + \\dots + \\left(\\genfrac{}{}{0pt}{}{n}{n}\\right)x^0y^n = \\sum_{k=0}^n \\left(\\genfrac{}{}{0pt}{}{n}{k}\\right)x^{n-k}y^k $$\n",
    "5. An integral: $$ \\int_{-\\infty}^{+\\infty} e^{-x^2}dx=\\sqrt{\\pi} $$\n",
    "6. Short Matrix: $$ \\begin{pmatrix} 2 & 1 & 3 \\\\ 2 & 6 & 8 \\\\ 6 & 8 & 18 \\end{pmatrix} $$\n",
    "7. Long Matrix $$ A = \\begin{pmatrix} a_{11} & a_{12} & \\dots & a_{1n} \\\\ a_{21} & a_{22} & \\dots & a_{2n} \\\\ \\vdots & \\vdots & \\ddots & \\vdots \\\\ a_{m1} & a_{m2} & \\dots & a_{mn} \\end{pmatrix}$$"
   ]
  },
  {
   "cell_type": "markdown",
   "metadata": {},
   "source": [
    "### Problem 2. Solving equations with Python"
   ]
  },
  {
   "cell_type": "code",
   "execution_count": 34,
   "metadata": {},
   "outputs": [
    {
     "data": {
      "image/png": "[encoded data removed]",
      "text/latex": [
       "$\\displaystyle \\left[ \\frac{- b - \\sqrt{- 4 a c + b^{2}}}{2 a}, \\  \\frac{- b + \\sqrt{- 4 a c + b^{2}}}{2 a}\\right]$"
      ],
      "text/plain": [
       "⎡        _____________          _____________⎤\n",
       "⎢       ╱           2          ╱           2 ⎥\n",
       "⎢-b - ╲╱  -4⋅a⋅c + b    -b + ╲╱  -4⋅a⋅c + b  ⎥\n",
       "⎢─────────────────────, ─────────────────────⎥\n",
       "⎣         2⋅a                    2⋅a         ⎦"
      ]
     },
     "execution_count": 34,
     "metadata": {},
     "output_type": "execute_result"
    }
   ],
   "source": [
    "sympy.init_printing() #better visualising the formula\n",
    "x,a,b,c = sympy.symbols(\"x a b c\")\n",
    "sympy.solve(a * x**2 + b * x + c, x)"
   ]
  },
  {
   "cell_type": "code",
   "execution_count": 35,
   "metadata": {},
   "outputs": [],
   "source": [
    "def solve_lenear_equation(b, c):\n",
    "  return [] if b == 0 else [-c / b]"
   ]
  },
  {
   "cell_type": "markdown",
   "metadata": {},
   "source": [
    "### - Another way of representing functions ###"
   ]
  },
  {
   "cell_type": "code",
   "execution_count": 36,
   "metadata": {},
   "outputs": [
    {
     "name": "stdout",
     "output_type": "stream",
     "text": [
      "[2.0]\n"
     ]
    }
   ],
   "source": [
    "solve_linear_equation_lambda = lambda b, c: [] if b == 0 else [-c / b]\n",
    "print(solve_linear_equation_lambda(4, -8))"
   ]
  },
  {
   "cell_type": "code",
   "execution_count": 37,
   "metadata": {},
   "outputs": [],
   "source": [
    "def solve_quadratic_equation(a, b, c):\n",
    "    \"\"\"\n",
    "    Returns the real solutions of the quadratic equation ax^2 + bx + c = 0\n",
    "    If a is equal to 0, it means that we want to solve a linear equation\n",
    "    \"\"\"\n",
    "    if a == 0:\n",
    "        # raise ValueError(\"'a' should be non-zero\")\n",
    "        # or solve the linear equation\n",
    "        return solve_lenear_equation(b, c)\n",
    "    \n",
    "    D = b ** 2 - 4 * a * c\n",
    "    denominator = 2 * a\n",
    "    \n",
    "    if D > 0:\n",
    "        return [(-b - math.sqrt(D)) / denominator, (-b + math.sqrt(D)) / denominator]\n",
    "    elif D == 0:\n",
    "        return [-b / denominator] # root of zero is zero\n",
    "    else:\n",
    "        return [] "
   ]
  },
  {
   "cell_type": "code",
   "execution_count": 38,
   "metadata": {},
   "outputs": [
    {
     "name": "stdout",
     "output_type": "stream",
     "text": [
      "[-1.0, 2.0]\n",
      "[4.0]\n",
      "[]\n"
     ]
    }
   ],
   "source": [
    "print(solve_quadratic_equation(1, -1, -2)) # [-1.0, 2.0]\n",
    "print(solve_quadratic_equation(1, -8, 16)) # [4.0]\n",
    "print(solve_quadratic_equation(1, 1, 1)) # []"
   ]
  },
  {
   "cell_type": "markdown",
   "metadata": {},
   "source": [
    "#### - Function for quadratic equation that solves linear equation internally if the 1st argument is equal to 0 ####"
   ]
  },
  {
   "cell_type": "code",
   "execution_count": 39,
   "metadata": {},
   "outputs": [
    {
     "name": "stdout",
     "output_type": "stream",
     "text": [
      "[-1.5]\n",
      "[-0.125]\n",
      "[0.04]\n"
     ]
    }
   ],
   "source": [
    "print(solve_quadratic_equation(0, 2, 3))\n",
    "print(solve_quadratic_equation(0, 32, 4))\n",
    "print(solve_quadratic_equation(0, 50, -2))"
   ]
  },
  {
   "cell_type": "markdown",
   "metadata": {},
   "source": [
    "### * Problem 4. Getting started with `math`"
   ]
  },
  {
   "cell_type": "code",
   "execution_count": 53,
   "metadata": {},
   "outputs": [
    {
     "name": "stdout",
     "output_type": "stream",
     "text": [
      "5.000000000000001\n",
      "25.0 25\n",
      "3.0\n"
     ]
    }
   ],
   "source": [
    "print(math.sqrt(5) ** 2) # the sqrt func returns float number and the representation of the floating-point numbers are in binary and certain decimal numbers cannot be represented exactly in binary\n",
    "print(math.pow(5, 2), pow(5, 2)) # the implementatio of the 1st func return float, the second return int\n",
    "print(math.log(8,2))"
   ]
  }
 ],
 "metadata": {
  "kernelspec": {
   "display_name": "base",
   "language": "python",
   "name": "python3"
  },
  "language_info": {
   "codemirror_mode": {
    "name": "ipython",
    "version": 3
   },
   "file_extension": ".py",
   "mimetype": "text/x-python",
   "name": "python",
   "nbconvert_exporter": "python",
   "pygments_lexer": "ipython3",
   "version": "3.11.7"
  },
  "orig_nbformat": 4
 },
 "nbformat": 4,
 "nbformat_minor": 2
}
