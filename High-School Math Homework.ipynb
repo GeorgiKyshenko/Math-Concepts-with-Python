{
 "cells": [
  {
   "cell_type": "code",
   "execution_count": null,
   "metadata": {},
   "outputs": [],
   "source": [
    "import sympy\n",
    "import math\n",
    "import matplotlib as plt\n",
    "import numpy as np"
   ]
  },
  {
   "cell_type": "markdown",
   "metadata": {},
   "source": [
    "### Problem 1. Formulas and LaTeX\n",
    "![Math formulas and equations](math.jpg)\n",
    "\n",
    "### My Formulas: ###\n",
    "1. Equation of a line: $$ y = ax + b $$\n",
    "2. Roots of the quadratic equation $ ax^2 + bx + c =0 $ $$ x_{1,2} = \\frac{-b \\pm \\sqrt{b^2 - 4ac}}{2a}$$\n",
    "3. Tylor series expansion: $$ f(x)|_{x=a} = f(a) + f'(a)(x-a) + \\frac{f''(a)}{2!}(x-a)^2 + \\dots + \\frac{f^{(n)}(a)}{n!}(x-a)^n + \\dots $$\n",
    "4. Binominal Theorem: $$ (x+y)^n = \\left(\\genfrac{}{}{0pt}{}{n}{0}\\right)x^ny^0 + \\left(\\genfrac{}{}{0pt}{}{n}{1}\\right)x^{n-1}y^1 + \\dots + \\left(\\genfrac{}{}{0pt}{}{n}{n}\\right)x^0y^n = \\sum_{k=0}^n \\left(\\genfrac{}{}{0pt}{}{n}{k}\\right)x^{n-k}y^k $$\n",
    "5. An integral: $$ \\int_{-\\infty}^{+\\infty} e^{-x^2}dx=\\sqrt{\\pi} $$\n",
    "6. Short Matrix: $$ \\begin{pmatrix} 2 & 1 & 3 \\\\ 2 & 6 & 8 \\\\ 6 & 8 & 18 \\end{pmatrix} $$\n",
    "7. Long Matrix $$ A = \\begin{pmatrix} a_{11} & a_{12} & \\dots & a_{1n} \\\\ a_{21} & a_{22} & \\dots & a_{2n} \\\\ \\vdots & \\vdots & \\ddots & \\vdots \\\\ a_{m1} & a_{m2} & \\dots & a_{mn} \\end{pmatrix}$$"
   ]
  },
  {
   "cell_type": "markdown",
   "metadata": {},
   "source": [
    "### Problem 2. Solving equations with Python"
   ]
  },
  {
   "cell_type": "code",
   "execution_count": null,
   "metadata": {},
   "outputs": [],
   "source": [
    "sympy.init_printing() #better visualising the formula\n",
    "x,a,b,c = sympy.symbols(\"x a b c\")\n",
    "sympy.solve(a * x**2 + b * x + c, x)"
   ]
  },
  {
   "cell_type": "code",
   "execution_count": null,
   "metadata": {},
   "outputs": [],
   "source": [
    "def solve_lenear_equation(b, c):\n",
    "  return [] if b == 0 else [-c / b]"
   ]
  },
  {
   "cell_type": "markdown",
   "metadata": {},
   "source": [
    "### - Another way of representing functions ###"
   ]
  },
  {
   "cell_type": "code",
   "execution_count": null,
   "metadata": {},
   "outputs": [],
   "source": [
    "solve_linear_equation_lambda = lambda b, c: [] if b == 0 else [-c / b]\n",
    "print(solve_linear_equation_lambda(4, -8))"
   ]
  },
  {
   "cell_type": "code",
   "execution_count": null,
   "metadata": {},
   "outputs": [],
   "source": [
    "def solve_quadratic_equation(a, b, c):\n",
    "    \"\"\"\n",
    "    Returns the real solutions of the quadratic equation ax^2 + bx + c = 0\n",
    "    If a is equal to 0, it means that we want to solve a linear equation\n",
    "    \"\"\"\n",
    "    if a == 0:\n",
    "        # raise ValueError(\"'a' should be non-zero\")\n",
    "        # or solve the linear equation\n",
    "        return solve_lenear_equation(b, c)\n",
    "    \n",
    "    D = b ** 2 - 4 * a * c\n",
    "    denominator = 2 * a\n",
    "    \n",
    "    if D > 0:\n",
    "        return [(-b - math.sqrt(D)) / denominator, (-b + math.sqrt(D)) / denominator]\n",
    "    elif D == 0:\n",
    "        return [-b / denominator] # root of zero is zero\n",
    "    else:\n",
    "        return [] "
   ]
  },
  {
   "cell_type": "code",
   "execution_count": null,
   "metadata": {},
   "outputs": [],
   "source": [
    "print(solve_quadratic_equation(1, -1, -2)) # [-1.0, 2.0]\n",
    "print(solve_quadratic_equation(1, -8, 16)) # [4.0]\n",
    "print(solve_quadratic_equation(1, 1, 1)) # []"
   ]
  },
  {
   "cell_type": "markdown",
   "metadata": {},
   "source": [
    "#### - Function for quadratic equation that solves linear equation internally if the 1st argument is equal to 0 ####"
   ]
  },
  {
   "cell_type": "code",
   "execution_count": null,
   "metadata": {},
   "outputs": [],
   "source": [
    "print(solve_quadratic_equation(0, 2, 3))\n",
    "print(solve_quadratic_equation(0, 32, 4))\n",
    "print(solve_quadratic_equation(0, 50, -2))"
   ]
  },
  {
   "cell_type": "markdown",
   "metadata": {},
   "source": [
    "### * Problem 3. Getting started with `math`"
   ]
  },
  {
   "cell_type": "code",
   "execution_count": null,
   "metadata": {},
   "outputs": [],
   "source": [
    "print(math.sqrt(5) ** 2) # the sqrt func returns float number and the representation of the floating-point numbers are in binary and certain decimal numbers cannot be represented exactly in binary\n",
    "print(math.pow(5, 2), pow(5, 2)) # the implementatio of the 1st func return float, the second return int\n",
    "print(math.log(8,2))"
   ]
  },
  {
   "cell_type": "markdown",
   "metadata": {},
   "source": [
    "### Problem 4. Equation of a Line"
   ]
  },
  {
   "cell_type": "code",
   "execution_count": null,
   "metadata": {},
   "outputs": [],
   "source": [
    "# Constants\n",
    "a = 2\n",
    "b = 3"
   ]
  },
  {
   "cell_type": "code",
   "execution_count": null,
   "metadata": {},
   "outputs": [],
   "source": [
    "x = 5\n",
    "y = a * x + b\n",
    "(x, y)"
   ]
  },
  {
   "cell_type": "code",
   "execution_count": null,
   "metadata": {},
   "outputs": [],
   "source": [
    "# the problem here is we can only have whole number is list(range(num1, num2))\n",
    "x1 = list(range(1, 7))\n",
    "for num in x1:\n",
    "  y = a * num + b\n",
    "  print(f\"for number {num}, y is {y}\")"
   ]
  },
  {
   "cell_type": "code",
   "execution_count": null,
   "metadata": {},
   "outputs": [],
   "source": [
    "# using numpy\n",
    "x_in_range = np.arange(6)\n",
    "print(x_in_range)\n",
    "\n",
    "x_setup = np.array([1,2,3,4,5])\n",
    "print(x_setup)\n",
    "\n",
    "linear_spaced_number = np.linspace(0,10,30)\n",
    "print(linear_spaced_number)\n",
    "\n",
    "for x in linear_spaced_number: y = a * x + b\n",
    "print(y)"
   ]
  },
  {
   "cell_type": "code",
   "execution_count": 108,
   "metadata": {},
   "outputs": [
    {
     "name": "stdout",
     "output_type": "stream",
     "text": [
      "[1, 5, 7, 1, 5, 7]\n",
      "Given:\n",
      " [ 5.          5.51724138  6.03448276  6.55172414  7.06896552  7.5862069\n",
      "  8.10344828  8.62068966  9.13793103  9.65517241 10.17241379 10.68965517\n",
      " 11.20689655 11.72413793 12.24137931 12.75862069 13.27586207 13.79310345\n",
      " 14.31034483 14.82758621 15.34482759 15.86206897 16.37931034 16.89655172\n",
      " 17.4137931  17.93103448 18.44827586 18.96551724 19.48275862 20.        ]\n",
      "Result:\n",
      " [10.         11.03448276 12.06896552 13.10344828 14.13793103 15.17241379\n",
      " 16.20689655 17.24137931 18.27586207 19.31034483 20.34482759 21.37931034\n",
      " 22.4137931  23.44827586 24.48275862 25.51724138 26.55172414 27.5862069\n",
      " 28.62068966 29.65517241 30.68965517 31.72413793 32.75862069 33.79310345\n",
      " 34.82758621 35.86206897 36.89655172 37.93103448 38.96551724 40.        ]\n"
     ]
    }
   ],
   "source": [
    "# normal python array\n",
    "x = [1,5,7]\n",
    "print(x * 2)\n",
    "\n",
    "# numpy array multiplied by a number returns every element miltiplied by the given number:\n",
    "z = np.linspace(5,20,30)\n",
    "print(f\"Given:\\n {z}\")\n",
    "print(f\"Result:\\n {z * 2}\")"
   ]
  }
 ],
 "metadata": {
  "kernelspec": {
   "display_name": "base",
   "language": "python",
   "name": "python3"
  },
  "language_info": {
   "codemirror_mode": {
    "name": "ipython",
    "version": 3
   },
   "file_extension": ".py",
   "mimetype": "text/x-python",
   "name": "python",
   "nbconvert_exporter": "python",
   "pygments_lexer": "ipython3",
   "version": "3.11.7"
  },
  "orig_nbformat": 4
 },
 "nbformat": 4,
 "nbformat_minor": 2
}
