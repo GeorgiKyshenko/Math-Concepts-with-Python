{
 "cells": [
  {
   "cell_type": "code",
   "execution_count": null,
   "metadata": {},
   "outputs": [],
   "source": [
    "import numpy as np\n",
    "from numpy.polynomial import Polynomial\n",
    "import matplotlib.pyplot as plt"
   ]
  },
  {
   "cell_type": "markdown",
   "metadata": {},
   "source": [
    "### 1.Quick knowledge"
   ]
  },
  {
   "cell_type": "code",
   "execution_count": null,
   "metadata": {},
   "outputs": [],
   "source": [
    "# short intro to iteration and list immutability\n",
    "numbers = list(range(1, 11))\n",
    "\n",
    "# this way elements are immutable\n",
    "for number in numbers:\n",
    "  number += 2\n",
    "print(f\"1.The numbers are immutable, the list is still the same - {numbers}\")\n",
    "\n",
    "# ugly solution\n",
    "for number in numbers:\n",
    "  numbers[number - 1] += 2\n",
    "print(f\"2.Get item by index and increment it by 2 (bad approach) - {numbers}\")\n",
    "\n",
    "# more clear solution but not perfect\n",
    "for i in range(len(numbers)):\n",
    "  numbers[i] += 2\n",
    "print(f\"3.Get item by index and increment it by 2 - {numbers}\")\n"
   ]
  },
  {
   "cell_type": "code",
   "execution_count": null,
   "metadata": {},
   "outputs": [],
   "source": [
    "# map function accepts function and iterable\n",
    "base_arr = range(1, 11)\n",
    "modified_arr = list(map(lambda n: n + 2, base_arr))\n",
    "print(f\"4.Iterate over collection and change the state of the values with 'map()': {modified_arr}\")\n",
    "\n",
    "modified_arr_filter = list(map(lambda n: n + 5 if n >= 5 else n, base_arr))\n",
    "print(f\"5.Lambda with filtering condition {modified_arr_filter}\")"
   ]
  },
  {
   "cell_type": "code",
   "execution_count": null,
   "metadata": {},
   "outputs": [],
   "source": [
    "# filter() as function, accept function and iterable\n",
    "filtered_base_arr = list(filter(lambda n: n >= 5, base_arr))\n",
    "print(f\"6.Filtering array with 'filter()' func: {filtered_base_arr}\")"
   ]
  },
  {
   "cell_type": "code",
   "execution_count": 54,
   "metadata": {},
   "outputs": [
    {
     "name": "stdout",
     "output_type": "stream",
     "text": [
      "7.List Comprehension, returns a copy of the iterated array/list(base_arr): [1, 2, 3, 4, 5, 6, 7, 8, 9, 10]\n",
      "7.1.List Comprehension, changing the state of the values, incrementing by 2: [3, 4, 5, 6, 7, 8, 9, 10, 11, 12]\n",
      "7.2.List Comprehension, changing the state of the values, incrementing by 2 to the power of 2: [9, 16, 25, 36, 49, 64, 81, 100, 121, 144]\n",
      "7.3.List Comprehension, changing the state of the values, incrementing by 2 to the power of 2 with condition: [9, 16, 25, 36, 49]\n"
     ]
    }
   ],
   "source": [
    "# list comprehension\n",
    "list_comprehension = [n for n in base_arr]\n",
    "print(f\"7.List Comprehension, returns a copy of the iterated array/list(base_arr): {list_comprehension}\")\n",
    "\n",
    "# modification\n",
    "list_comprehension = [n + 2 for n in base_arr]\n",
    "print(f\"7.1.List Comprehension, changing the state of the values, incrementing by 2: {list_comprehension}\")\n",
    "\n",
    "list_comprehension = [(n + 2) ** 2 for n in base_arr]\n",
    "print(f\"7.2.List Comprehension, changing the state of the values, incrementing by 2 to the power of 2: {list_comprehension}\")\n",
    "\n",
    "list_comprehension = [(n + 2) ** 2 for n in base_arr if n <= 5]\n",
    "print(f\"7.3.List Comprehension, changing the state of the values, incrementing by 2 to the power of 2 with condition: {list_comprehension}\")"
   ]
  }
 ],
 "metadata": {
  "kernelspec": {
   "display_name": "base",
   "language": "python",
   "name": "python3"
  },
  "language_info": {
   "codemirror_mode": {
    "name": "ipython",
    "version": 3
   },
   "file_extension": ".py",
   "mimetype": "text/x-python",
   "name": "python",
   "nbconvert_exporter": "python",
   "pygments_lexer": "ipython3",
   "version": "3.11.7"
  },
  "orig_nbformat": 4
 },
 "nbformat": 4,
 "nbformat_minor": 2
}
