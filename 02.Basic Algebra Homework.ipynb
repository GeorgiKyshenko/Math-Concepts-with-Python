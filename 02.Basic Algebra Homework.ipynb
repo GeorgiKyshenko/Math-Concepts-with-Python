{
 "cells": [
  {
   "cell_type": "code",
   "execution_count": null,
   "metadata": {},
   "outputs": [],
   "source": [
    "import numpy as np\n",
    "from numpy.polynomial import Polynomial\n",
    "import matplotlib.pyplot as plt\n",
    "import itertools as iter"
   ]
  },
  {
   "cell_type": "markdown",
   "metadata": {},
   "source": [
    "### 1.Quick knowledge"
   ]
  },
  {
   "cell_type": "code",
   "execution_count": null,
   "metadata": {},
   "outputs": [],
   "source": [
    "# short intro to iteration and list immutability\n",
    "numbers = list(range(1, 11))\n",
    "\n",
    "# this way elements are immutable\n",
    "for number in numbers:\n",
    "  number += 2\n",
    "print(f\"1.The numbers are immutable, the list is still the same - {numbers}\")\n",
    "\n",
    "# ugly solution\n",
    "for number in numbers:\n",
    "  numbers[number - 1] += 2\n",
    "print(f\"2.Get item by index and increment it by 2 (bad approach) - {numbers}\")\n",
    "\n",
    "# more clear solution but not perfect\n",
    "for i in range(len(numbers)):\n",
    "  numbers[i] += 2\n",
    "print(f\"3.Get item by index and increment it by 2 - {numbers}\")\n",
    "\n",
    "# THESE METHODS CHANGE THE ARRAY INTERNALY AND SOME TIMES WE DONT WANY THAT\n"
   ]
  },
  {
   "cell_type": "code",
   "execution_count": null,
   "metadata": {},
   "outputs": [],
   "source": [
    "# map function accepts function and iterable\n",
    "base_arr = range(1, 11)\n",
    "modified_arr = list(map(lambda n: n + 2, base_arr))\n",
    "print(f\"4.Iterate over collection and change the state of the values with 'map()': {modified_arr}\")\n",
    "\n",
    "modified_arr_filter = list(map(lambda n: n + 5 if n >= 5 else n, base_arr))\n",
    "print(f\"5.Lambda with filtering condition {modified_arr_filter}\")"
   ]
  },
  {
   "cell_type": "code",
   "execution_count": null,
   "metadata": {},
   "outputs": [],
   "source": [
    "# filter() as function, accept function and iterable\n",
    "filtered_base_arr = list(filter(lambda n: n >= 5, base_arr))\n",
    "print(f\"6.Filtering array with 'filter()' func: {filtered_base_arr}\")"
   ]
  },
  {
   "cell_type": "code",
   "execution_count": null,
   "metadata": {},
   "outputs": [],
   "source": [
    "# list comprehension\n",
    "list_comprehension = [n for n in base_arr]\n",
    "print(f\"7.List Comprehension, returns a copy of the iterated array/list(base_arr): {list_comprehension}\")\n",
    "\n",
    "# modification\n",
    "list_comprehension = [n + 2 for n in base_arr]\n",
    "print(f\"7.1.List Comprehension, changing the state of the values, incrementing by 2: {list_comprehension}\")\n",
    "\n",
    "list_comprehension = [(n + 2) ** 2 for n in base_arr]\n",
    "print(f\"7.2.List Comprehension, changing the state of the values, incrementing by 2 to the power of 2: {list_comprehension}\")\n",
    "\n",
    "# filtering\n",
    "list_comprehension = [(n + 2) ** 2 for n in base_arr if n <= 5]\n",
    "print(f\"7.3.List Comprehension, changing the state of the values, incrementing by 2 to the power of 2 with condition: {list_comprehension}\")"
   ]
  },
  {
   "cell_type": "code",
   "execution_count": null,
   "metadata": {},
   "outputs": [],
   "source": [
    "# Nesting functions\n",
    "def summator(a):\n",
    "  def inner_summator(b): # this i called closure. Function that is encapsulated inside another function.\n",
    "    return a + b\n",
    "  return inner_summator\n",
    "\n",
    "sum_result = summator(5)(5)\n",
    "print(f\"8.Calling Inner function and print the result: {sum_result}\")\n",
    "\n",
    "# the function part by part\n",
    "add5 = summator(5)\n",
    "add5_to1 = add5(1)\n",
    "print(f\"8.1.Add 5 to 1(function way): {add5_to1}\")\n",
    "\n",
    "# add 5 to all array items\n",
    "add5_to_array_elements = [add5(n) for n in base_arr]\n",
    "print(f\"8.2.Add 5 to every array element: {add5_to_array_elements} !->List Comprehension returns a copy of the given array(base_arr)<-!\")"
   ]
  },
  {
   "cell_type": "code",
   "execution_count": null,
   "metadata": {},
   "outputs": [],
   "source": [
    "# testing itertools.filterfalse()\n",
    "test_arr = list(iter.filterfalse(lambda n: n % 2 != 0, range(10)))\n",
    "print(test_arr)"
   ]
  },
  {
   "cell_type": "code",
   "execution_count": null,
   "metadata": {},
   "outputs": [],
   "source": [
    "# numpy power\n",
    "np_arr = np.arange(1, 21)\n",
    "print(f\"9.NumPy Array, adding 5 to each element and mult. by 2 directly: {(np_arr + 5) * 2}\")\n",
    "\n",
    "# can be filtered\n",
    "np_nums = np_arr\n",
    "filter_larger_than_5 = np_nums[np_nums > 5]\n",
    "print(f\"9.1.Filtering NumPy arr: {filter_larger_than_5}\")"
   ]
  },
  {
   "cell_type": "code",
   "execution_count": null,
   "metadata": {},
   "outputs": [],
   "source": [
    "# NumPy array \"tricks\"\n",
    "tuple_arr = np.array([(0, 0), (1, 0.8), (2, 0.9), (3, 0.1), (4, -0.8), (5, -1.0)])\n",
    "print(f\"10.Take tuple by index: {tuple_arr[1]}\")\n",
    "print(\"10.1.Take all tuples: \" + \" \".join(map(str, tuple_arr)))\n",
    "print(f\"10.2.Take the first element of the tuple: {tuple_arr[:, 0]}\")\n",
    "print(f\"10.3.Take the second element of the tuple: {tuple_arr[:, 1]}\")\n",
    "print(f\"10.4.Take from 1 to 3(exluding) element the tuples second element: {tuple_arr[1:3, 1]}\")"
   ]
  },
  {
   "cell_type": "markdown",
   "metadata": {},
   "source": [
    "#### 2.Polynomial Interpolation"
   ]
  },
  {
   "cell_type": "code",
   "execution_count": null,
   "metadata": {},
   "outputs": [],
   "source": [
    "#coordinate points\n",
    "points = np.array([(0, 0), (1, 0.8), (2, 0.9), (3, 0.1), (4, -0.8), (5, -1.0)])\n",
    "# in n-points we can pass Polynomial of n^-1 ===> n -> n^-1\n",
    "print(f\"11.The length of the points is 6 {len(points)} so we can provide a polynomial to the power of 5 because one of the number is constant (or ax^0)\")\n",
    "\n",
    "# separate the points by x and y\n",
    "x = points[:, 0]\n",
    "y = points[:, 1]\n",
    "polynomial_func = Polynomial.fit(x, y, len(points) - 1)\n",
    "print(f\"11.1.Plolynomial of given points: {polynomial_func}\") # len(points) - 1 is degree of the function\n",
    "\n",
    "print(f\"11.2.Calling the polynomial function in point 0 to 5: {polynomial_func(3)}\")"
   ]
  },
  {
   "cell_type": "code",
   "execution_count": null,
   "metadata": {},
   "outputs": [],
   "source": [
    "# all the code above is summed in this function with plotting\n",
    "def interpolate_polynomial(points, degree, min_x, max_x, str=\"\"):\n",
    "    \"\"\"\n",
    "    Interpolates a polynomial of the specified degree through the given points and plots it\n",
    "    points - a list of points (x, y) to plot\n",
    "    degree - the polynomial degree\n",
    "    min_x, max_x - range of x values used to plot the interpolating polynomial\n",
    "    \"\"\"\n",
    "    x = points[:, 0]\n",
    "    y = points[:, 1]\n",
    "    polynomial_func = Polynomial.fit(x, y, degree)\n",
    "    \n",
    "    plot_x = np.linspace(min_x, max_x, 1000)\n",
    "    plot_y = polynomial_func(plot_x)\n",
    "    \n",
    "    plt.plot(plot_x, plot_y)\n",
    "    plt.scatter(x, y, c = \"r\")\n",
    "    \n",
    "    plt.xlabel(\"x\")\n",
    "    plt.ylabel(\"y\")\n",
    "    plt.title(str)\n",
    "    \n",
    "    # plt.gca().set_aspect(\"equal\")\n",
    "    plt.show()\n",
    "    \n",
    "interpolate_polynomial(points, len(points) - 1, np.min(points[:, 0]), np.max(points[:, 0]), \"Degree: 5\")\n",
    "\n",
    "# the interval is squished and parabola outside the given points is called polynomial exterpolation\n",
    "interpolate_polynomial(points, len(points) - 1, -5, 10, \"Degree: 5, diff min/max for x (exterpolation)\")\n",
    "\n",
    "# tests with differen degree(exponents) of the polynomial func (interpolation)\n",
    "interpolate_polynomial(points, 3, np.min(points[:, 0]), np.max(points[:, 0]), \"Degree: 3\")\n",
    "interpolate_polynomial(points, 2, np.min(points[:, 0]), np.max(points[:, 0]), \"Degree: 2\")\n",
    "interpolate_polynomial(points, 1, np.min(points[:, 0]), np.max(points[:, 0]), \"Degree: 1\")\n",
    "interpolate_polynomial(points, 5, np.min(points[:, 0]), np.max(points[:, 0]), \"Degree: 5\")\n",
    "interpolate_polynomial(points, 7, np.min(points[:, 0]), np.max(points[:, 0]), \"Degree: 7\")\n",
    "interpolate_polynomial(points, 10, np.min(points[:, 0]), np.max(points[:, 0]), \"Degree: 10\")"
   ]
  },
  {
   "cell_type": "code",
   "execution_count": null,
   "metadata": {},
   "outputs": [],
   "source": [
    "# Polynomial exterpolation\n",
    "interpolate_polynomial(points, 5, -10, 10, \"Degree: 5 (exterpolation)\")\n",
    "interpolate_polynomial(points, 7, -10, 10, \"Degree: 7 (exterpolation)\")\n",
    "interpolate_polynomial(points, 10, -10, 10, \"Degree: 10 (exterpolation)\")\n",
    "interpolate_polynomial(points, len(points) - 1, -2, 7)\n",
    "interpolate_polynomial(points, len(points) + 1, -2, 7)"
   ]
  },
  {
   "cell_type": "code",
   "execution_count": null,
   "metadata": {},
   "outputs": [],
   "source": [
    "def interpolate_polynomial(points, degree, min_x, max_x, str=\"\"):\n",
    "    \"\"\"\n",
    "    Interpolates a polynomial of the specified degree through the given points and plots it\n",
    "    points - a list of points (x, y) to plot\n",
    "    degree - the polynomial degree\n",
    "    min_x, max_x - range of x values used to plot the interpolating polynomial\n",
    "    \"\"\"\n",
    "    x = points[:, 0]\n",
    "    y = points[:, 1]\n",
    "    polynomial_func = Polynomial.fit(x, y, degree)\n",
    "    \n",
    "    plot_x = np.linspace(min_x, max_x, 1000)\n",
    "    plot_y = polynomial_func(plot_x)\n",
    "    plot_z = 1 / (1 + plot_x**2) # the real function is this, not a polynomial\n",
    "    \n",
    "    plt.plot(plot_x, plot_y)\n",
    "    plt.plot(plot_x, plot_z)\n",
    "    plt.scatter(x, y, c = \"r\")\n",
    "    \n",
    "    plt.xlabel(\"x\")\n",
    "    plt.ylabel(\"y\")\n",
    "    plt.title(str)\n",
    "    \n",
    "    # plt.gca().set_aspect(\"equal\")\n",
    "    plt.show()\n",
    "    \n",
    "points2 = np.array([(-5, 0.03846), (-4, 0.05882), (-3, 0.1), (-2, 0.2), (-1, 0.5), (0, 1), (1, 0.5), (2, 0.2), (3, 0.1), (4, 0.05882), (5, 0.03846)])\n",
    "interpolate_polynomial(points2, len(points2) - 1, np.min(points2[:, 0]), np.max(points2[:, 0]))\n"
   ]
  },
  {
   "cell_type": "markdown",
   "metadata": {},
   "source": [
    "#### 3.Complex Numbers as Vectors"
   ]
  },
  {
   "cell_type": "code",
   "execution_count": null,
   "metadata": {},
   "outputs": [],
   "source": [
    "# plotting single vector\n",
    "def plot_complex_number(z):\n",
    "    \"\"\"\n",
    "    Plots the complex number z as a radius vector in the 2D space\n",
    "    \"\"\"\n",
    "    plt.quiver(0, 0, z.real, z.imag, angles = \"xy\", scale_units = \"xy\", scale = 1)\n",
    "    plt.xticks(range(-4, 5))\n",
    "    plt.yticks(range(-4, 5))\n",
    "\n",
    "plot_complex_number(2 + 3j)"
   ]
  },
  {
   "cell_type": "code",
   "execution_count": null,
   "metadata": {},
   "outputs": [],
   "source": [
    "# plotting several vectors\n",
    "def plot_complex_numbers(numbers, colors):\n",
    "    \"\"\"\n",
    "    Plots the given complex numbers as radius vectors in the 2D space\n",
    "    \"\"\"\n",
    "    plt.quiver([0] * len(numbers), [0] * len(numbers), [z.real for z in numbers], [z.imag for z in numbers], angles = \"xy\", scale_units = \"xy\", scale = 1, color = colors)\n",
    "    plt.xticks(range(-5, 10))\n",
    "    plt.yticks(range(-5, 10))\n",
    "    plt.grid()\n",
    "    \n",
    "plot_complex_numbers([2 + 3j, -2 - 1j, -3, 2j], [\"green\", \"red\", \"blue\", \"orange\"])"
   ]
  },
  {
   "cell_type": "code",
   "execution_count": null,
   "metadata": {},
   "outputs": [],
   "source": [
    "# sum of two vectors\n",
    "z1 = 2 + 3j\n",
    "z2 = 1 - 1j\n",
    "plot_complex_numbers([z1, z2, z1 + z2], [\"red\", \"blue\", \"green\"])"
   ]
  },
  {
   "cell_type": "code",
   "execution_count": null,
   "metadata": {},
   "outputs": [],
   "source": [
    "z1 = 2 + 3j\n",
    "z2 = 2 + 0j\n",
    "plot_complex_numbers([z1, z2, z1 + z2], [\"red\", \"blue\", \"green\"])"
   ]
  },
  {
   "cell_type": "code",
   "execution_count": null,
   "metadata": {},
   "outputs": [],
   "source": [
    "z1 = 2 + 3j\n",
    "z2 = 0 + 2j\n",
    "plot_complex_numbers([z1, z2, z1 + z2], [\"red\", \"blue\", \"green\"])"
   ]
  },
  {
   "cell_type": "code",
   "execution_count": null,
   "metadata": {},
   "outputs": [],
   "source": [
    "# multiplying vector by a number\n",
    "z = 2 + 3j\n",
    "plot_complex_numbers([z, z * 1], [\"red\", \"blue\"])\n",
    "plot_complex_numbers([z, z * -1], [\"red\", \"blue\"]) # turns the vector in oposite direction\n",
    "plot_complex_numbers([z, z * 1j], [\"red\", \"blue\"]) # turns the vector to 90 degrees\n",
    "plot_complex_numbers([z, z * -1j], [\"red\", \"blue\"]) # turns the vector to 270 degrees"
   ]
  },
  {
   "cell_type": "code",
   "execution_count": null,
   "metadata": {},
   "outputs": [],
   "source": [
    "# multiplying vector by vector\n",
    "z1 = 2 + 3j\n",
    "z2 = 1 - 2j\n",
    "plot_complex_numbers([z1, z2, z1 * z2], [\"red\", \"blue\", \"green\"])"
   ]
  },
  {
   "cell_type": "markdown",
   "metadata": {},
   "source": [
    "### 3. Recursion and Fractals"
   ]
  },
  {
   "cell_type": "code",
   "execution_count": null,
   "metadata": {},
   "outputs": [],
   "source": [
    "def factorial_recursive(n):\n",
    "  if n == 0:\n",
    "    return 1\n",
    "  \n",
    "  return n * factorial_recursive(n - 1)\n",
    "\n",
    "def factorial_iterative(n):\n",
    "  if n == 0:\n",
    "    return 1\n",
    "  \n",
    "  factorial = 1\n",
    "  for i in range(1, n + 1):\n",
    "    factorial *= i\n",
    "  return factorial\n",
    "\n",
    "\n",
    "print(f\"1.Factorial iterative: {factorial_iterative(10)}\")\n",
    "print(f\"2.Factorial recursive: {factorial_recursive(10)}\")\n",
    "\n",
    "print(factorial_iterative(5) == factorial_recursive(5))\n",
    "print(factorial_recursive(5) == 5 * factorial_recursive(4))\n",
    "\n",
    "# testing\n",
    "for i in range(10):\n",
    "  # if there is no error it works!\n",
    "  assert factorial_recursive(i) == factorial_iterative(i)"
   ]
  },
  {
   "cell_type": "code",
   "execution_count": null,
   "metadata": {},
   "outputs": [],
   "source": [
    "# function that remembers what is the last returned result (lazy function)\n",
    "def nat():\n",
    "  number = 0\n",
    "  while True:\n",
    "    yield number\n",
    "    number += 1\n",
    "\n",
    "natural_number = nat()\n",
    "\n",
    "# print([next(natural_number) for _ in range(100)]) printing numbers from 0 to 99\n",
    "\n",
    "next_num = next(natural_number)\n",
    "next_num2 = next(natural_number)\n",
    "next_num3 = next(natural_number)\n",
    "\n",
    "print(f\"3.0.Print next number of the function: {next_num}\")\n",
    "print(f\"3.1.Print next number of the function: {next_num2}\")\n",
    "print(f\"3.2.Print next number of the function: {next_num3}\")"
   ]
  },
  {
   "cell_type": "code",
   "execution_count": null,
   "metadata": {},
   "outputs": [],
   "source": [
    "# using generator func in generator func. Find only the even numbers using nat()\n",
    "def even():\n",
    "  nat_num = nat()\n",
    "  while True:\n",
    "    next_num = next(nat_num)  \n",
    "    if next_num % 2 == 0:\n",
    "      yield next_num\n",
    "    \n",
    "even_fun = even()\n",
    "print([next(even_fun) for _ in range(100)])"
   ]
  },
  {
   "cell_type": "markdown",
   "metadata": {},
   "source": [
    "### 4.Run-length Encoding"
   ]
  },
  {
   "cell_type": "code",
   "execution_count": null,
   "metadata": {},
   "outputs": [],
   "source": []
  }
 ],
 "metadata": {
  "kernelspec": {
   "display_name": "base",
   "language": "python",
   "name": "python3"
  },
  "language_info": {
   "codemirror_mode": {
    "name": "ipython",
    "version": 3
   },
   "file_extension": ".py",
   "mimetype": "text/x-python",
   "name": "python",
   "nbconvert_exporter": "python",
   "pygments_lexer": "ipython3",
   "version": "3.11.7"
  },
  "orig_nbformat": 4
 },
 "nbformat": 4,
 "nbformat_minor": 2
}
