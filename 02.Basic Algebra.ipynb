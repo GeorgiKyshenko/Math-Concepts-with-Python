{
 "cells": [
  {
   "cell_type": "code",
   "execution_count": null,
   "metadata": {},
   "outputs": [],
   "source": [
    "import numpy as np\n",
    "from numpy.polynomial import Polynomial"
   ]
  },
  {
   "cell_type": "markdown",
   "metadata": {},
   "source": [
    "### 1.Polynomials"
   ]
  },
  {
   "cell_type": "code",
   "execution_count": null,
   "metadata": {},
   "outputs": [],
   "source": [
    "p1 = Polynomial([-8, 5, 2]) # indices are exponents of the number on that index position\n",
    "p2 = Polynomial([-2, 0, 0, 0, 3]) # with 0 as argument we skip exponents, so we have 2 + 3x**4\n",
    "p2"
   ]
  },
  {
   "cell_type": "code",
   "execution_count": null,
   "metadata": {},
   "outputs": [],
   "source": [
    "(p1.coef, p2.coef) # we can see the coeficents of the monomials"
   ]
  },
  {
   "cell_type": "code",
   "execution_count": null,
   "metadata": {},
   "outputs": [],
   "source": [
    "# sum and multiply of two polynomials\n",
    "sum = p1 + p2\n",
    "mult = p1 * p2\n",
    "print(sum)\n",
    "print(mult)\n",
    "mult"
   ]
  },
  {
   "cell_type": "markdown",
   "metadata": {},
   "source": [
    "### 2.Sets"
   ]
  },
  {
   "cell_type": "code",
   "execution_count": null,
   "metadata": {},
   "outputs": [],
   "source": [
    "print(set(range(1,11)))\n",
    "print({1,2,3,4,5,6,7,8,9,10})\n",
    "print({3,2,1,10,20,123,1234}, {3,2,1}) # set does not guarantee order of the elements but uniqueness\n",
    "print({1,2,1,3,5,5,1,2}) # repeating elements are removed and elements does not have indices"
   ]
  },
  {
   "cell_type": "code",
   "execution_count": null,
   "metadata": {},
   "outputs": [],
   "source": [
    "# we can check if an element is inside out set\n",
    "my_set = {3, 5, 8, 12, 17}\n",
    "print(2 in my_set)\n",
    "print(17 in my_set)"
   ]
  },
  {
   "cell_type": "code",
   "execution_count": null,
   "metadata": {},
   "outputs": [],
   "source": [
    "# iteration\n",
    "print(f\"Iteration: {set(x for x in range(-10, 11))}\")\n",
    "\n",
    "# condition\n",
    "print(f\"Condition: {set(x for x in range(-10, 11) if x >= 0)}\")\n",
    "\n",
    "# transformations\n",
    "print(f\"Transfromation: {set(x + 5 for x in range(-10, 11))}\")\n",
    "print(f\"Transformation - remove the repeating results: {set(x ** 2 for x in range(-10, 11))}\") # remove the repeating results"
   ]
  },
  {
   "cell_type": "code",
   "execution_count": null,
   "metadata": {},
   "outputs": [],
   "source": [
    "# comparing Sets\n",
    "names = {\"Georgi\", \"Cvetan\", \"Daniel\", \"Alice\"}\n",
    "names_to_compare = {\"Alice\", \"Georgi\", \"Daniel\", \"Cvetan\"}\n",
    "print(f\"Comparing sets: {names == names_to_compare}\")\n",
    "\n",
    "# comparing arrays\n",
    "arr_names = [\"Georgi\", \"Cvetan\", \"Daniel\", \"Alice\"]\n",
    "arr_ordered = [\"Georgi\", \"Cvetan\", \"Daniel\", \"Alice\"]\n",
    "arr_name_to_compare = [\"Alice\", \"Georgi\", \"Daniel\", \"Cvetan\"]\n",
    "print(f\"Comparing arrays with the same elements in the SAME order: {arr_names == arr_ordered}\")\n",
    "print(f\"Comparing arrays with the same elements but DIFFERENT order: {arr_names == arr_name_to_compare}\")\n",
    "# lists are ordered collections"
   ]
  },
  {
   "cell_type": "code",
   "execution_count": 106,
   "metadata": {},
   "outputs": [
    {
     "name": "stdout",
     "output_type": "stream",
     "text": [
      "1.set1: {1, 2, 3, 4}\n",
      "2.set1: {10, 3, 4, 5}\n",
      "3.set union: {1, 2, 3, 4, 5, 10}\n",
      "4.set length: 4\n",
      "5.set intersection: {3, 4}\n",
      "6.short for union: {1, 2, 3, 4, 5, 10}\n",
      "7.short for intersection: {3, 4}\n",
      "8.set1 differences: {1, 2}\n",
      "9.set2 differences: {10, 5}\n",
      "10.both differences in a set: {1, 2, 5, 10}\n",
      "11.short for symmetric_difference: {1, 2, 5, 10}\n"
     ]
    }
   ],
   "source": [
    "# operations with two sets\n",
    "\n",
    "# sets\n",
    "set1 = {1, 2, 3, 4}\n",
    "set2 = {3, 4, 5, 10, 3, 5, 10, 3, 3}\n",
    "print(f\"1.set1: {set1}\")\n",
    "print(f\"2.set1: {set2}\")\n",
    "\n",
    "# union between two sets\n",
    "print(f\"3.set union: {set1.union(set2)}\")\n",
    "\n",
    "# set length\n",
    "print(f\"4.set length: {len(set1)}\")\n",
    "\n",
    "# set intersection contains the common elements\n",
    "print(f\"5.set intersection: {set1.intersection(set2)}\")\n",
    "\n",
    "# short for union\n",
    "print(f\"6.short for union: {set1 | set2}\")\n",
    "\n",
    "# short for intersection\n",
    "print(f\"7.short for intersection: {set1 & set2}\")\n",
    "\n",
    "# set differences\n",
    "print(f\"8.set1 differences: {set1.difference(set2)}\")\n",
    "\n",
    "# tells you what are the elements that are not present in the other set\n",
    "# but set1/set2 is not the same as set2/set1\n",
    " \n",
    "print(f\"9.set2 differences: {set2.difference(set1)}\")\n",
    "\n",
    "# both differences combined in a set\n",
    "print(f\"10.both differences in a set: {set1.symmetric_difference(set2)}\")\n",
    "print(f\"11.short for symmetric_difference: {set1 ^ set2}\")"
   ]
  }
 ],
 "metadata": {
  "kernelspec": {
   "display_name": "base",
   "language": "python",
   "name": "python3"
  },
  "language_info": {
   "codemirror_mode": {
    "name": "ipython",
    "version": 3
   },
   "file_extension": ".py",
   "mimetype": "text/x-python",
   "name": "python",
   "nbconvert_exporter": "python",
   "pygments_lexer": "ipython3",
   "version": "3.11.7"
  },
  "orig_nbformat": 4
 },
 "nbformat": 4,
 "nbformat_minor": 2
}
